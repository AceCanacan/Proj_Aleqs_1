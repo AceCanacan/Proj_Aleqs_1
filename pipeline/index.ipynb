{
 "cells": [
  {
   "cell_type": "code",
   "execution_count": 5,
   "metadata": {},
   "outputs": [],
   "source": [
    "import pandas as pd\n",
    "import re\n",
    "import openai"
   ]
  },
  {
   "cell_type": "code",
   "execution_count": 3,
   "metadata": {},
   "outputs": [],
   "source": [
    "# Replace 'your_file.csv' with the path to your CSV file\n",
    "df = pd.read_csv('data.csv')"
   ]
  },
  {
   "cell_type": "code",
   "execution_count": 7,
   "metadata": {},
   "outputs": [],
   "source": [
    "def extract_title(case_text):\n",
    "    match = re.search(r'\\[\\s*(G\\.\\s*R\\.\\s*Nos?\\.).*?\\]\\s*.*?\\bJ\\.\\:', case_text, re.DOTALL)\n",
    "    \n",
    "    # If a match is found, return it; otherwise, return 'No Title Found'\n",
    "    return match.group(0).strip() if match else 'No Title Found'\n",
    "\n",
    "df['case_title'] = df['info'].apply(extract_title)"
   ]
  }
 ],
 "metadata": {
  "kernelspec": {
   "display_name": "Python 3",
   "language": "python",
   "name": "python3"
  },
  "language_info": {
   "codemirror_mode": {
    "name": "ipython",
    "version": 3
   },
   "file_extension": ".py",
   "mimetype": "text/x-python",
   "name": "python",
   "nbconvert_exporter": "python",
   "pygments_lexer": "ipython3",
   "version": "3.11.5"
  },
  "orig_nbformat": 4
 },
 "nbformat": 4,
 "nbformat_minor": 2
}
